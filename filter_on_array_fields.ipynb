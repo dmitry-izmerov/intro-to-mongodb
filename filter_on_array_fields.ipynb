{
 "cells": [
  {
   "cell_type": "code",
   "execution_count": null,
   "metadata": {},
   "outputs": [],
   "source": [
    "import pymongo\n",
    "from pymongo import MongoClient\n",
    "import pprint\n",
    "from IPython.display import clear_output\n",
    "\n",
    "client = MongoClient(URI)\n",
    "clear_output()\n",
    "\n",
    "containsOneFilter = {\n",
    "    'languages': 'Russian'\n",
    "}\n",
    "containsAllFilter = {\n",
    "    'languages': {'$all': ['Russian', 'English']}\n",
    "}\n",
    "containsOnlyFilter = {\n",
    "    'languages': ['Russian', 'English']\n",
    "}\n",
    "russianFirstFilter = {\n",
    "    'languages.0': 'Russian'\n",
    "}\n",
    "projection = {\n",
    "    '_id': 0,\n",
    "    'title': 1,\n",
    "    'languages': 1\n",
    "}\n",
    "\n",
    "print(client.mflix.movies_scratch.count(containsOneFilter))\n",
    "print(client.mflix.movies_scratch.count(containsAllFilter))\n",
    "print(client.mflix.movies_scratch.count(containsOnlyFilter))\n",
    "pprint.pprint(list(client.mflix.movies_scratch.find(russianFirstFilter, projection)))"
   ]
  }
 ],
 "metadata": {
  "kernelspec": {
   "display_name": "Python 3",
   "language": "python",
   "name": "python3"
  },
  "language_info": {
   "codemirror_mode": {
    "name": "ipython",
    "version": 3
   },
   "file_extension": ".py",
   "mimetype": "text/x-python",
   "name": "python",
   "nbconvert_exporter": "python",
   "pygments_lexer": "ipython3",
   "version": "3.6.3"
  }
 },
 "nbformat": 4,
 "nbformat_minor": 2
}
