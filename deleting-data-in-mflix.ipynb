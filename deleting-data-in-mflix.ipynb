{
 "cells": [
  {
   "cell_type": "code",
   "execution_count": null,
   "metadata": {
    "collapsed": true
   },
   "outputs": [],
   "source": [
    "import pymongo\n",
    "from bson.objectid import ObjectId\n",
    "from datetime import datetime \n",
    "\n",
    "# Replace XXXX with your connection URI from the Atlas UI\n",
    "uri = XXXX\n",
    "\n",
    "course_client = pymongo.MongoClient(uri)\n",
    "comments = course_client['mflix']['comments']"
   ]
  },
  {
   "cell_type": "code",
   "execution_count": null,
   "metadata": {},
   "outputs": [],
   "source": [
    "text = 'What a great movie.'\n",
    "comment = {\n",
    "    \"name\": \"some users's name\",\n",
    "    \"email\": \"someuser@email.com\",\n",
    "    \"text\": text,\n",
    "    \"date\": datetime.utcnow()\n",
    "}\n",
    "insert_result = comments.insert_one(comment, False)\n",
    "print(insert_result.inserted_id)\n",
    "\n",
    "filter = {\"text\": text}\n",
    "list(comments.find(filter))"
   ]
  },
  {
   "cell_type": "code",
   "execution_count": null,
   "metadata": {
    "collapsed": true
   },
   "outputs": [],
   "source": [
    "comments.delete_one(filter)\n",
    "list(comments.find(filter))"
   ]
  },
  {
   "cell_type": "code",
   "execution_count": null,
   "metadata": {
    "collapsed": true
   },
   "outputs": [],
   "source": [
    "titanic_id = ObjectId(\"573a139af29313caabcf0d74\")\n",
    "titanic_filter = {\"movie_id\": titanic_id}\n",
    "comments.delete_many(titanic_filter)"
   ]
  },
  {
   "cell_type": "code",
   "execution_count": null,
   "metadata": {
    "collapsed": true
   },
   "outputs": [],
   "source": [
    "movies = course_client['mflix']['movies']\n",
    "update_doc = {\n",
    "    \"$set\": {\n",
    "        \"comments\": [],\n",
    "        \"num_mflix_comments\": 0\n",
    "    }\n",
    "}\n",
    "movies.update_one(titanic_filter, update_doc)"
   ]
  }
 ],
 "metadata": {
  "kernelspec": {
   "display_name": "Python 3",
   "language": "python",
   "name": "python3"
  },
  "language_info": {
   "codemirror_mode": {
    "name": "ipython",
    "version": 3
   },
   "file_extension": ".py",
   "mimetype": "text/x-python",
   "name": "python",
   "nbconvert_exporter": "python",
   "pygments_lexer": "ipython3",
   "version": "3.6.3"
  }
 },
 "nbformat": 4,
 "nbformat_minor": 2
}
